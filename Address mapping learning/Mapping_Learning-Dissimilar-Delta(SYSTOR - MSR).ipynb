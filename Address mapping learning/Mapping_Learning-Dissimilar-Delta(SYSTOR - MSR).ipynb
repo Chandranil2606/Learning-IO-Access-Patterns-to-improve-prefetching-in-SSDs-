{
 "cells": [
  {
   "cell_type": "code",
   "execution_count": 2,
   "metadata": {},
   "outputs": [
    {
     "name": "stderr",
     "output_type": "stream",
     "text": [
      "Using TensorFlow backend.\n"
     ]
    }
   ],
   "source": [
    "# Author: Chandranil Chakraborttii\n",
    "# Project: Learning I/O Access Patterns to Improve Prefetching in SSDs\n",
    "# Paper Link :https://www.researchgate.net/profile/Chandranil_Chakraborttii/publication/344379801_Learning_IO_Access_Patterns_to_Improve_Prefetching_in_SSDs/links/5f6e28fba6fdcc00863adb13/Learning-I-O-Access-Patterns-to-Improve-Prefetching-in-SSDs.pdf\n",
    "# Loading libraries\n",
    "\n",
    "# Update path variable to the source of the data\n",
    "from keras.preprocessing import sequence\n",
    "from keras.models import Sequential\n",
    "from keras.layers import Dense, Embedding\n",
    "from keras.layers import LSTM\n",
    "from keras.datasets import imdb\n",
    "\n",
    "\n",
    "from tensorflow.python.client import device_lib\n",
    "import numpy as np\n",
    "import csv\n",
    "import pandas as pd\n",
    "import sys\n",
    "import os\n",
    "import glob\n",
    "import tensorflow as tf\n",
    "\n",
    "\n",
    "os.environ[\"CUDA_DEVICE_ORDER\"] = \"PCI_BUS_ID\"   # see issue #152\n",
    "os.environ[\"CUDA_VISIBLE_DEVICES\"] = \"1\"\n",
    "\n"
   ]
  },
  {
   "cell_type": "code",
   "execution_count": 3,
   "metadata": {},
   "outputs": [],
   "source": [
    "# Load data (trace 1) \n",
    "# Map, order by frequency \n",
    "# Train model \n",
    "# Load another data (trace 2)\n",
    "# Map, order by frequency - Same as trace 1\n",
    "# Load model\n",
    "# Use the model to predict on the new trace\n",
    "# Note and compare results\n",
    "# Load all libraries - D\n",
    "\n",
    "from keras.models import Sequential, Model\n",
    "from keras.layers.embeddings import Embedding\n",
    "from keras.layers import Input, Activation, Dense, Permute, Dropout, add, dot, concatenate\n",
    "from keras.layers import LSTM\n",
    "from keras.utils.data_utils import get_file\n",
    "from keras.preprocessing.sequence import pad_sequences\n",
    "from keras.models import load_model\n",
    "from sklearn.metrics import confusion_matrix\n",
    "from sklearn import metrics\n",
    "from functools import reduce\n",
    "import pickle\n",
    "import tarfile\n",
    "import numpy as np\n",
    "import re\n",
    "import os\n",
    "import time"
   ]
  },
  {
   "cell_type": "code",
   "execution_count": 4,
   "metadata": {},
   "outputs": [
    {
     "name": "stdout",
     "output_type": "stream",
     "text": [
      "['/soe/hlitz/maxwell/notebooks/Prefetching_SSD/Data/part32/2016031115-LUN2.csv']\n"
     ]
    }
   ],
   "source": [
    "import numpy as np\n",
    "import pandas as pd\n",
    "import glob\n",
    "import csv\n",
    "import sys\n",
    "import os\n",
    "import math\n",
    "import tensorflow as tf\n",
    "import keras\n",
    "from keras.preprocessing import sequence\n",
    "from keras.models import Sequential\n",
    "from keras.layers import Dense, Dropout, Flatten, Embedding\n",
    "from keras.layers import LSTM\n",
    "from keras.datasets import imdb\n",
    "from keras.callbacks import EarlyStopping\n",
    "from sklearn import metrics\n",
    "from keras.layers.core import Dense, Activation\n",
    "from keras.callbacks import ModelCheckpoint\n",
    "from numpy import insert\n",
    "from sklearn import preprocessing\n",
    "from collections import Counter\n",
    "from numpy import array\n",
    "from numpy import hstack\n",
    "from keras.preprocessing.sequence import TimeseriesGenerator\n",
    "\n",
    "\n",
    "\n",
    "# Please update path variable as necessary\n",
    "path  = r\"/soe/hlitz/maxwell/notebooks/Prefetching_SSD/Data/part32/\" \n",
    "\n",
    "names = ['TimeStamp','Response','IOType','LUN','ByteOffset','Size']\n",
    "\n",
    "\n",
    "\n",
    "all_files = glob.glob(os.path.join(path, \"2016031115-LUN2.csv\"))\n",
    "print(all_files)\n",
    "\n",
    "\n"
   ]
  },
  {
   "cell_type": "code",
   "execution_count": 12,
   "metadata": {},
   "outputs": [
    {
     "name": "stdout",
     "output_type": "stream",
     "text": [
      "2408228\n"
     ]
    }
   ],
   "source": [
    "df = pd.read_csv(all_files[0],engine='python',skiprows =1,header=None,na_values=['-1'], index_col=False) \n",
    "names = ['TimeStamp','Response','IOType','LUN','ByteOffset','Size']   \n",
    "\n",
    "df.columns = names\n",
    "df = df.sort_values(by='TimeStamp')\n",
    "print (len(df))\n",
    "\n"
   ]
  },
  {
   "cell_type": "code",
   "execution_count": 13,
   "metadata": {},
   "outputs": [],
   "source": [
    "df['TimeStamp_D'] = df['TimeStamp'] - df['TimeStamp'].shift(+1)"
   ]
  },
  {
   "cell_type": "code",
   "execution_count": 33,
   "metadata": {},
   "outputs": [
    {
     "data": {
      "text/plain": [
       "0.0004200935363769531"
      ]
     },
     "execution_count": 33,
     "metadata": {},
     "output_type": "execute_result"
    }
   ],
   "source": [
    "df['TimeStamp_D'].median()"
   ]
  },
  {
   "cell_type": "code",
   "execution_count": 15,
   "metadata": {},
   "outputs": [
    {
     "data": {
      "text/plain": [
       "4.435940980911255"
      ]
     },
     "execution_count": 15,
     "metadata": {},
     "output_type": "execute_result"
    }
   ],
   "source": [
    "df['TimeStamp_D'].max()"
   ]
  },
  {
   "cell_type": "code",
   "execution_count": 16,
   "metadata": {},
   "outputs": [
    {
     "data": {
      "text/plain": [
       "0.0"
      ]
     },
     "execution_count": 16,
     "metadata": {},
     "output_type": "execute_result"
    }
   ],
   "source": [
    "df['TimeStamp_D'].min()"
   ]
  },
  {
   "cell_type": "code",
   "execution_count": null,
   "metadata": {},
   "outputs": [],
   "source": [
    "for key,val in y_test:\n",
    "    if y_test.val > 1:\n",
    "        "
   ]
  },
  {
   "cell_type": "code",
   "execution_count": 17,
   "metadata": {},
   "outputs": [
    {
     "data": {
      "image/png": "[encoded data removed]",
      "text/plain": [
       "<Figure size 432x288 with 1 Axes>"
      ]
     },
     "metadata": {
      "needs_background": "light"
     },
     "output_type": "display_data"
    }
   ],
   "source": [
    "import matplotlib.pyplot as plt\n",
    "from collections import Counter\n",
    "\n",
    "y_test = df['TimeStamp_D'].tolist()\n",
    "x = Counter(y_test)\n",
    "x = dict(x)\n",
    "\n",
    "\n",
    "\n",
    "plt.plot(list(x.keys()),list(x.values()))\n",
    "\n",
    " \n",
    "plt.xlabel('LBA Delta')\n",
    "plt.ylabel('Frequency of Occurence')\n",
    "plt.title('GC bandwidth plot')\n",
    "plt.grid(True)\n",
    "plt.show()"
   ]
  },
  {
   "cell_type": "code",
   "execution_count": 31,
   "metadata": {},
   "outputs": [],
   "source": [
    "new_list = []\n",
    "new_key = []\n",
    "\n",
    "for x,y in x.items():\n",
    "    if x > 0.0001:\n",
    "        pass\n",
    "    else:\n",
    "        new_list.append(y)\n",
    "        new_key.append(x)\n",
    "        "
   ]
  },
  {
   "cell_type": "code",
   "execution_count": 32,
   "metadata": {},
   "outputs": [
    {
     "data": {
      "image/png": "[encoded data removed]",
      "text/plain": [
       "<Figure size 432x288 with 1 Axes>"
      ]
     },
     "metadata": {
      "needs_background": "light"
     },
     "output_type": "display_data"
    }
   ],
   "source": [
    "import matplotlib.pyplot as plt\n",
    "from collections import Counter\n",
    "\n",
    "plt.plot(new_key,new_list)\n",
    "\n",
    " \n",
    "plt.xlabel('LBA Delta')\n",
    "plt.ylabel('Frequency of Occurence')\n",
    "plt.title('GC bandwidth plot')\n",
    "plt.grid(True)\n",
    "plt.show()"
   ]
  },
  {
   "cell_type": "code",
   "execution_count": null,
   "metadata": {},
   "outputs": [],
   "source": [
    "\n",
    "df['ByteOffset_Delta'] = df['ByteOffset'] - df['ByteOffset'].shift(-1)\n",
    "df = df.drop(df.index[-1])\n",
    "\n",
    "total_classes = len(Counter(df['ByteOffset_Delta']))\n",
    "x = Counter(df['ByteOffset_Delta'])\n",
    "vals = {}\n",
    "vals =  x.most_common(1000)\n",
    "bo_list = []\n",
    "coverage = 0\n",
    "for key,value in vals:\n",
    "    bo_list.append(key)\n",
    "    coverage = coverage + value\n",
    "print(len(bo_list))\n",
    "print(\"Percentage Coverage\")\n",
    "print((coverage/len(df))*100) \n",
    "total_classes = len(Counter(df['ByteOffset']))\n",
    "x = Counter(df['ByteOffset'])\n",
    "vals = {}\n",
    "vals =  x.most_common(1000)\n",
    "bo_list = []\n",
    "coverage = 0\n",
    "for key,value in vals:\n",
    "    bo_list.append(key)\n",
    "    coverage = coverage + value\n",
    "    \n",
    "print(len(bo_list))\n",
    "print(\"Percentage Coverage Offset\")\n",
    "print((coverage/len(df))*100)\n",
    "    \n",
    " "
   ]
  },
  {
   "cell_type": "code",
   "execution_count": 6,
   "metadata": {},
   "outputs": [],
   "source": [
    "# Transform Operation_type, Host_name and remove Disk_Num\n",
    "# Make Class of Byte Offset delta \n",
    "# Normalize the columns (Except ByteOffset Delta)\n",
    "# Make the prediction model with 1000 classes\n",
    "import operator\n",
    "     \n",
    "df['ByteOffset_Delta'] = df['ByteOffset_Delta'].fillna(0)\n",
    "address_map = dict(Counter(df['ByteOffset_Delta']))\n",
    "sorted_address_map = sorted(dict(address_map).items(), key=operator.itemgetter(1))\n"
   ]
  },
  {
   "cell_type": "code",
   "execution_count": 7,
   "metadata": {},
   "outputs": [
    {
     "data": {
      "text/plain": [
       "(-12288.0, 45355)"
      ]
     },
     "execution_count": 7,
     "metadata": {},
     "output_type": "execute_result"
    }
   ],
   "source": [
    "sorted_address_map[len(sorted_address_map)-2]"
   ]
  },
  {
   "cell_type": "code",
   "execution_count": 8,
   "metadata": {},
   "outputs": [],
   "source": [
    "address_remap = {}\n",
    "\n",
    "count = 0\n",
    "while(count<len(sorted_address_map)):\n",
    "    if(count < 1000):\n",
    "        address_remap[count] = sorted_address_map[len(sorted_address_map)-count - 1][0]\n",
    "    else:\n",
    "        address_remap[1001] = sorted_address_map[len(sorted_address_map)-count - 1][0]\n",
    "    count = count + 1"
   ]
  },
  {
   "cell_type": "code",
   "execution_count": 9,
   "metadata": {},
   "outputs": [],
   "source": [
    "rev_address_remap = {y:x for x,y in address_remap.items()}"
   ]
  },
  {
   "cell_type": "code",
   "execution_count": 10,
   "metadata": {},
   "outputs": [
    {
     "data": {
      "text/html": [
       "<div>\n",
       "<style scoped>\n",
       "    .dataframe tbody tr th:only-of-type {\n",
       "        vertical-align: middle;\n",
       "    }\n",
       "\n",
       "    .dataframe tbody tr th {\n",
       "        vertical-align: top;\n",
       "    }\n",
       "\n",
       "    .dataframe thead th {\n",
       "        text-align: right;\n",
       "    }\n",
       "</style>\n",
       "<table border=\"1\" class=\"dataframe\">\n",
       "  <thead>\n",
       "    <tr style=\"text-align: right;\">\n",
       "      <th></th>\n",
       "      <th>TimeStamp</th>\n",
       "      <th>Response</th>\n",
       "      <th>IOType</th>\n",
       "      <th>LUN</th>\n",
       "      <th>ByteOffset</th>\n",
       "      <th>Size</th>\n",
       "      <th>ByteOffset_Delta</th>\n",
       "    </tr>\n",
       "  </thead>\n",
       "  <tbody>\n",
       "    <tr>\n",
       "      <th>0</th>\n",
       "      <td>1.457676e+09</td>\n",
       "      <td>0.000135</td>\n",
       "      <td>W</td>\n",
       "      <td>2</td>\n",
       "      <td>3910856676864</td>\n",
       "      <td>4096</td>\n",
       "      <td>7.669474e+09</td>\n",
       "    </tr>\n",
       "    <tr>\n",
       "      <th>1</th>\n",
       "      <td>1.457676e+09</td>\n",
       "      <td>0.000131</td>\n",
       "      <td>W</td>\n",
       "      <td>2</td>\n",
       "      <td>3903187203072</td>\n",
       "      <td>4096</td>\n",
       "      <td>1.860530e+11</td>\n",
       "    </tr>\n",
       "    <tr>\n",
       "      <th>2</th>\n",
       "      <td>1.457676e+09</td>\n",
       "      <td>0.003149</td>\n",
       "      <td>R</td>\n",
       "      <td>2</td>\n",
       "      <td>3717134172160</td>\n",
       "      <td>4096</td>\n",
       "      <td>3.331562e+12</td>\n",
       "    </tr>\n",
       "    <tr>\n",
       "      <th>3</th>\n",
       "      <td>1.457676e+09</td>\n",
       "      <td>0.000242</td>\n",
       "      <td>W</td>\n",
       "      <td>2</td>\n",
       "      <td>385572261376</td>\n",
       "      <td>4096</td>\n",
       "      <td>-2.318130e+10</td>\n",
       "    </tr>\n",
       "    <tr>\n",
       "      <th>4</th>\n",
       "      <td>1.457676e+09</td>\n",
       "      <td>0.000227</td>\n",
       "      <td>W</td>\n",
       "      <td>2</td>\n",
       "      <td>408753558528</td>\n",
       "      <td>1536</td>\n",
       "      <td>6.457003e+09</td>\n",
       "    </tr>\n",
       "  </tbody>\n",
       "</table>\n",
       "</div>"
      ],
      "text/plain": [
       "      TimeStamp  Response IOType  LUN     ByteOffset  Size  ByteOffset_Delta\n",
       "0  1.457676e+09  0.000135      W    2  3910856676864  4096      7.669474e+09\n",
       "1  1.457676e+09  0.000131      W    2  3903187203072  4096      1.860530e+11\n",
       "2  1.457676e+09  0.003149      R    2  3717134172160  4096      3.331562e+12\n",
       "3  1.457676e+09  0.000242      W    2   385572261376  4096     -2.318130e+10\n",
       "4  1.457676e+09  0.000227      W    2   408753558528  1536      6.457003e+09"
      ]
     },
     "execution_count": 10,
     "metadata": {},
     "output_type": "execute_result"
    }
   ],
   "source": [
    "df.head(5)"
   ]
  },
  {
   "cell_type": "code",
   "execution_count": 11,
   "metadata": {},
   "outputs": [
    {
     "name": "stdout",
     "output_type": "stream",
     "text": [
      "1001\n",
      "755078\n"
     ]
    }
   ],
   "source": [
    "count = 0\n",
    "label_list = []\n",
    "rogue_delta = []\n",
    "label =0.0\n",
    "while (count < len(df)):\n",
    "    x = df['ByteOffset_Delta'].iloc[count]\n",
    "    if x in rev_address_remap:\n",
    "        label = rev_address_remap[x]\n",
    "        label_list.append(label)\n",
    "    else:\n",
    "        label_list.append(1001)\n",
    "        rogue_delta.append(x)\n",
    "    count = count+1\n",
    "\n",
    "df['ByteOffset_Delta_class']  = label_list\n",
    "print(len(Counter(df['ByteOffset_Delta_class'])))\n",
    "print(len(rogue_delta))"
   ]
  },
  {
   "cell_type": "code",
   "execution_count": 12,
   "metadata": {},
   "outputs": [
    {
     "data": {
      "text/plain": [
       "8768"
      ]
     },
     "execution_count": 12,
     "metadata": {},
     "output_type": "execute_result"
    }
   ],
   "source": [
    "Counter(label_list)[6]"
   ]
  },
  {
   "cell_type": "code",
   "execution_count": 15,
   "metadata": {},
   "outputs": [
    {
     "name": "stdout",
     "output_type": "stream",
     "text": [
      "1806170\n",
      "602056\n"
     ]
    }
   ],
   "source": [
    "# Split to train, validate and test\n",
    "\n",
    "# Finding the value 75th percentile of TimeStamp\n",
    "\n",
    "import math\n",
    "\n",
    "\n",
    "training_pt_1 = math.floor((len(df)*0.75)) \n",
    "\n",
    "\n",
    "data_train = df['ByteOffset_Delta_class'][:training_pt_1]\n",
    "data_test = df['ByteOffset_Delta_class'][training_pt_1+1:]\n",
    "\n",
    "print(len(data_train))\n",
    "print(len(data_test))"
   ]
  },
  {
   "cell_type": "code",
   "execution_count": 17,
   "metadata": {},
   "outputs": [],
   "source": [
    "data_train = df['ByteOffset_Delta_class'].values.tolist()\n",
    "data_test = df['ByteOffset_Delta_class'].values.tolist()"
   ]
  },
  {
   "cell_type": "code",
   "execution_count": 18,
   "metadata": {},
   "outputs": [],
   "source": [
    "data_path  = r'/soe/cchakrab/test_output/output_csv/mapping/p5'\n",
    "path_train  = r\"/soe/cchakrab/test_output/output_csv/mapping/p5/train_run1_transfer.txt\"\n",
    "\n",
    "with open(path_train, 'w') as f:\n",
    "    for item in data_train:\n",
    "        f.write(\"%s \" % item)\n",
    "        \n"
   ]
  },
  {
   "cell_type": "code",
   "execution_count": 19,
   "metadata": {},
   "outputs": [],
   "source": [
    "path_test  = r\"/soe/cchakrab/test_output/output_csv/mapping/p5/test_run1_transfer.txt\"\n",
    "with open(path_test, 'w') as f:\n",
    "    for item in data_test:\n",
    "        f.write(\"%s \" % item)"
   ]
  },
  {
   "cell_type": "code",
   "execution_count": 20,
   "metadata": {},
   "outputs": [],
   "source": [
    "import collections\n",
    "import os\n",
    "import tensorflow as tf\n",
    "from keras.models import Sequential, load_model\n",
    "from keras.layers import Dense, Activation, Embedding, Dropout, TimeDistributed\n",
    "from keras.layers import LSTM\n",
    "from keras.optimizers import Adam\n",
    "from keras.utils import to_categorical\n",
    "from keras.callbacks import ModelCheckpoint\n",
    "import numpy as np\n",
    "import argparse\n",
    "\n",
    "\n",
    "def read_words(filename):\n",
    "    with open(filename, 'r') as f:\n",
    "        return f.read().split()\n",
    "\n",
    "def build_vocab(filename):\n",
    "    data = read_words(filename)\n",
    "\n",
    "    counter = collections.Counter(data)\n",
    "    count_pairs = sorted(counter.items(), key=lambda x: (-x[1], x[0]))\n",
    "\n",
    "    words, _ = list(zip(*count_pairs))\n",
    "    word_to_id = dict(zip(words, range(len(words))))\n",
    "\n",
    "    return word_to_id\n",
    "\n",
    "\n",
    "def file_to_word_ids(filename, word_to_id):\n",
    "    data = read_words(filename)\n",
    "    return [word_to_id[word] for word in data if word in word_to_id]\n",
    "\n",
    "\n",
    "def load_data():\n",
    "    # get the data paths\n",
    "    train_path = os.path.join(data_path, \"train_run1_transfer.txt\")\n",
    "    test_path = os.path.join(data_path, \"test_run1_transfer.txt\")\n",
    "\n",
    "    # build the complete vocabulary, then convert text data to list of integers\n",
    "    word_to_id = build_vocab(train_path)\n",
    "    train_data = file_to_word_ids(train_path, word_to_id)\n",
    "    test_data = file_to_word_ids(test_path, word_to_id)\n",
    "    vocabulary = len(word_to_id)\n",
    "    reversed_dictionary = dict(zip(word_to_id.values(), word_to_id.keys()))\n",
    "\n",
    "    print(train_data[:5])\n",
    "    #print(word_to_id)\n",
    "    print(vocabulary)\n",
    "    print(\" \".join([reversed_dictionary[x] for x in train_data[:10]]))\n",
    "    return train_data, test_data, vocabulary, reversed_dictionary\n"
   ]
  },
  {
   "cell_type": "code",
   "execution_count": 21,
   "metadata": {},
   "outputs": [
    {
     "name": "stdout",
     "output_type": "stream",
     "text": [
      "[0, 0, 0, 0, 0]\n",
      "1001\n",
      "1001 1001 1001 1001 1001 1001 1001 1001 1001 1001\n"
     ]
    }
   ],
   "source": [
    "train_data, test_data, vocabulary, reversed_dictionary = load_data()"
   ]
  },
  {
   "cell_type": "code",
   "execution_count": 22,
   "metadata": {},
   "outputs": [],
   "source": [
    "class KerasBatchGenerator(object):\n",
    "\n",
    "    def __init__(self, data, num_steps, batch_size, vocabulary, skip_step=5):\n",
    "        self.data = data\n",
    "        self.num_steps = num_steps\n",
    "        self.batch_size = batch_size\n",
    "        self.vocabulary = vocabulary\n",
    "        # this will track the progress of the batches sequentially through the\n",
    "        # data set - once the data reaches the end of the data set it will reset\n",
    "        # back to zero\n",
    "        self.current_idx = 0\n",
    "        # skip_step is the number of words which will be skipped before the next\n",
    "        # batch is skimmed from the data set\n",
    "        self.skip_step = skip_step\n",
    "\n",
    "    def generate(self):\n",
    "        x = np.zeros((self.batch_size, self.num_steps))\n",
    "        y = np.zeros((self.batch_size, self.num_steps, self.vocabulary))\n",
    "        while True:\n",
    "            for i in range(self.batch_size):\n",
    "                if self.current_idx + self.num_steps >= len(self.data):\n",
    "                    # reset the index back to the start of the data set\n",
    "                    self.current_idx = 0\n",
    "                x[i, :] = self.data[self.current_idx:self.current_idx + self.num_steps]\n",
    "                temp_y = self.data[self.current_idx + 1:self.current_idx + self.num_steps + 1]\n",
    "                # convert all of temp_y into a one hot representation\n",
    "                y[i, :, :] = to_categorical(temp_y, num_classes=self.vocabulary)\n",
    "                self.current_idx += self.skip_step\n",
    "            yield x, y\n"
   ]
  },
  {
   "cell_type": "code",
   "execution_count": 23,
   "metadata": {},
   "outputs": [
    {
     "name": "stdout",
     "output_type": "stream",
     "text": [
      "Model: \"sequential_1\"\n",
      "_________________________________________________________________\n",
      "Layer (type)                 Output Shape              Param #   \n",
      "=================================================================\n",
      "embedding_1 (Embedding)      (None, 64, 1500)          1501500   \n",
      "_________________________________________________________________\n",
      "lstm_1 (LSTM)                (None, 64, 1500)          18006000  \n",
      "_________________________________________________________________\n",
      "lstm_2 (LSTM)                (None, 64, 1500)          18006000  \n",
      "_________________________________________________________________\n",
      "dropout_1 (Dropout)          (None, 64, 1500)          0         \n",
      "_________________________________________________________________\n",
      "time_distributed_1 (TimeDist (None, 64, 1001)          1502501   \n",
      "_________________________________________________________________\n",
      "activation_1 (Activation)    (None, 64, 1001)          0         \n",
      "=================================================================\n",
      "Total params: 39,016,001\n",
      "Trainable params: 39,016,001\n",
      "Non-trainable params: 0\n",
      "_________________________________________________________________\n",
      "None\n"
     ]
    }
   ],
   "source": [
    "from keras.callbacks import EarlyStopping\n",
    "look_back = 64\n",
    "num_steps = look_back\n",
    "batch_size = 64\n",
    "\n",
    "train_data_generator = KerasBatchGenerator(train_data, num_steps, batch_size, vocabulary, skip_step=num_steps) \n",
    "#valid_data_generator = KerasBatchGenerator(valid_data, num_steps, batch_size, vocabulary, skip_step=num_steps)\n",
    "test_data_generator = KerasBatchGenerator(test_data, num_steps, batch_size, vocabulary, skip_step=num_steps)\n",
    "\n",
    "hidden_size = 1500\n",
    "use_dropout=True \n",
    "\n",
    "model = Sequential()\n",
    "model.add(Embedding(vocabulary, hidden_size, input_length=num_steps))\n",
    "model.add(LSTM(hidden_size, return_sequences=True))\n",
    "model.add(LSTM(hidden_size, return_sequences=True))\n",
    "if use_dropout:\n",
    "    model.add(Dropout(0.2))\n",
    "model.add(TimeDistributed(Dense(vocabulary)))\n",
    "model.add(Activation('softmax'))\n",
    "\n",
    "\n",
    "optimizer = Adam()\n",
    "model.compile(loss='categorical_crossentropy', optimizer='adam', metrics=['categorical_accuracy',keras.metrics.Precision(), keras.metrics.Recall()])\n",
    "\n",
    "print(model.summary())\n",
    "monitor = EarlyStopping(monitor='val_categorical_accuracy', min_delta=1e-3, patience=7, verbose=1, mode='auto')\n",
    "checkpointer = ModelCheckpoint(filepath=data_path + '/model-trained.hdf5', verbose=1)\n",
    "num_epochs = 5000"
   ]
  },
  {
   "cell_type": "code",
   "execution_count": 24,
   "metadata": {},
   "outputs": [
    {
     "name": "stderr",
     "output_type": "stream",
     "text": [
      "/soe/hlitz/miniconda3/envs/py3_tf_gpu/lib/python3.6/site-packages/tensorflow_core/python/framework/indexed_slices.py:424: UserWarning: Converting sparse IndexedSlices to a dense Tensor of unknown shape. This may consume a large amount of memory.\n",
      "  \"Converting sparse IndexedSlices to a dense Tensor of unknown shape. \"\n"
     ]
    },
    {
     "name": "stdout",
     "output_type": "stream",
     "text": [
      "Epoch 1/5000\n",
      "587/587 [==============================] - 271s 462ms/step - loss: 2.3518 - categorical_accuracy: 0.6158 - precision_1: 0.7685 - recall_1: 0.4931 - val_loss: 3.6866 - val_categorical_accuracy: 0.3350 - val_precision_1: 0.1920 - val_recall_1: 0.0747\n",
      "\n",
      "Epoch 00001: saving model to /soe/cchakrab/test_output/output_csv/mapping/p5/model-trained.hdf5\n",
      "Epoch 2/5000\n",
      "587/587 [==============================] - 269s 458ms/step - loss: 1.5368 - categorical_accuracy: 0.7374 - precision_1: 0.8016 - recall_1: 0.6579 - val_loss: 1.2695 - val_categorical_accuracy: 0.7277 - val_precision_1: 0.8224 - val_recall_1: 0.6617\n",
      "\n",
      "Epoch 00002: saving model to /soe/cchakrab/test_output/output_csv/mapping/p5/model-trained.hdf5\n",
      "Epoch 3/5000\n",
      "587/587 [==============================] - 269s 458ms/step - loss: 1.3751 - categorical_accuracy: 0.7576 - precision_1: 0.8004 - recall_1: 0.6970 - val_loss: 0.9993 - val_categorical_accuracy: 0.7638 - val_precision_1: 0.8271 - val_recall_1: 0.7052\n",
      "\n",
      "Epoch 00003: saving model to /soe/cchakrab/test_output/output_csv/mapping/p5/model-trained.hdf5\n",
      "Epoch 4/5000\n",
      "587/587 [==============================] - 269s 459ms/step - loss: 1.1298 - categorical_accuracy: 0.7824 - precision_1: 0.8162 - recall_1: 0.7372 - val_loss: 1.6119 - val_categorical_accuracy: 0.8048 - val_precision_1: 0.8348 - val_recall_1: 0.7649\n",
      "\n",
      "Epoch 00004: saving model to /soe/cchakrab/test_output/output_csv/mapping/p5/model-trained.hdf5\n",
      "Epoch 5/5000\n",
      "587/587 [==============================] - 268s 457ms/step - loss: 1.1377 - categorical_accuracy: 0.7841 - precision_1: 0.8133 - recall_1: 0.7444 - val_loss: 2.1191 - val_categorical_accuracy: 0.8132 - val_precision_1: 0.8374 - val_recall_1: 0.7736\n",
      "\n",
      "Epoch 00005: saving model to /soe/cchakrab/test_output/output_csv/mapping/p5/model-trained.hdf5\n",
      "Epoch 6/5000\n",
      "587/587 [==============================] - 269s 458ms/step - loss: 1.1950 - categorical_accuracy: 0.7778 - precision_1: 0.8059 - recall_1: 0.7375 - val_loss: 1.6363 - val_categorical_accuracy: 0.8144 - val_precision_1: 0.8323 - val_recall_1: 0.7964\n",
      "\n",
      "Epoch 00006: saving model to /soe/cchakrab/test_output/output_csv/mapping/p5/model-trained.hdf5\n",
      "Epoch 7/5000\n",
      "587/587 [==============================] - 268s 457ms/step - loss: 1.0701 - categorical_accuracy: 0.7910 - precision_1: 0.8167 - recall_1: 0.7559 - val_loss: 1.4129 - val_categorical_accuracy: 0.7488 - val_precision_1: 0.7969 - val_recall_1: 0.7208\n",
      "\n",
      "Epoch 00007: saving model to /soe/cchakrab/test_output/output_csv/mapping/p5/model-trained.hdf5\n",
      "Epoch 8/5000\n",
      "587/587 [==============================] - 269s 459ms/step - loss: 1.0450 - categorical_accuracy: 0.7915 - precision_1: 0.8174 - recall_1: 0.7581 - val_loss: 1.0295 - val_categorical_accuracy: 0.8206 - val_precision_1: 0.8417 - val_recall_1: 0.7994\n",
      "\n",
      "Epoch 00008: saving model to /soe/cchakrab/test_output/output_csv/mapping/p5/model-trained.hdf5\n",
      "Epoch 9/5000\n",
      "587/587 [==============================] - 268s 456ms/step - loss: 1.1725 - categorical_accuracy: 0.7800 - precision_1: 0.8051 - recall_1: 0.7439 - val_loss: 1.3069 - val_categorical_accuracy: 0.7920 - val_precision_1: 0.8490 - val_recall_1: 0.7305\n",
      "\n",
      "Epoch 00009: saving model to /soe/cchakrab/test_output/output_csv/mapping/p5/model-trained.hdf5\n",
      "Epoch 10/5000\n",
      "587/587 [==============================] - 267s 455ms/step - loss: 1.0801 - categorical_accuracy: 0.7874 - precision_1: 0.8131 - recall_1: 0.7551 - val_loss: 1.2601 - val_categorical_accuracy: 0.8244 - val_precision_1: 0.8434 - val_recall_1: 0.7995\n",
      "\n",
      "Epoch 00010: saving model to /soe/cchakrab/test_output/output_csv/mapping/p5/model-trained.hdf5\n",
      "Epoch 11/5000\n",
      "587/587 [==============================] - 267s 454ms/step - loss: 1.0454 - categorical_accuracy: 0.7933 - precision_1: 0.8180 - recall_1: 0.7618 - val_loss: 0.4385 - val_categorical_accuracy: 0.8311 - val_precision_1: 0.8503 - val_recall_1: 0.8133\n",
      "\n",
      "Epoch 00011: saving model to /soe/cchakrab/test_output/output_csv/mapping/p5/model-trained.hdf5\n",
      "Epoch 12/5000\n",
      "587/587 [==============================] - 267s 455ms/step - loss: 1.0462 - categorical_accuracy: 0.7935 - precision_1: 0.8180 - recall_1: 0.7638 - val_loss: 0.7216 - val_categorical_accuracy: 0.8303 - val_precision_1: 0.8574 - val_recall_1: 0.7999\n",
      "\n",
      "Epoch 00012: saving model to /soe/cchakrab/test_output/output_csv/mapping/p5/model-trained.hdf5\n",
      "Epoch 13/5000\n",
      "587/587 [==============================] - 267s 455ms/step - loss: 1.1202 - categorical_accuracy: 0.7828 - precision_1: 0.8090 - recall_1: 0.7487 - val_loss: 0.4169 - val_categorical_accuracy: 0.8182 - val_precision_1: 0.8414 - val_recall_1: 0.7898\n",
      "\n",
      "Epoch 00013: saving model to /soe/cchakrab/test_output/output_csv/mapping/p5/model-trained.hdf5\n",
      "Epoch 14/5000\n",
      "587/587 [==============================] - 267s 454ms/step - loss: 0.9429 - categorical_accuracy: 0.8056 - precision_1: 0.8289 - recall_1: 0.7794 - val_loss: 0.3986 - val_categorical_accuracy: 0.8229 - val_precision_1: 0.8373 - val_recall_1: 0.8111\n",
      "\n",
      "Epoch 00014: saving model to /soe/cchakrab/test_output/output_csv/mapping/p5/model-trained.hdf5\n",
      "Epoch 15/5000\n",
      "587/587 [==============================] - 267s 455ms/step - loss: 1.0520 - categorical_accuracy: 0.7926 - precision_1: 0.8163 - recall_1: 0.7608 - val_loss: 0.3391 - val_categorical_accuracy: 0.8275 - val_precision_1: 0.8517 - val_recall_1: 0.8019\n",
      "\n",
      "Epoch 00015: saving model to /soe/cchakrab/test_output/output_csv/mapping/p5/model-trained.hdf5\n",
      "Epoch 16/5000\n",
      "587/587 [==============================] - 267s 455ms/step - loss: 1.0095 - categorical_accuracy: 0.7987 - precision_1: 0.8229 - recall_1: 0.7703 - val_loss: 0.3722 - val_categorical_accuracy: 0.8292 - val_precision_1: 0.8474 - val_recall_1: 0.8127\n",
      "\n",
      "Epoch 00016: saving model to /soe/cchakrab/test_output/output_csv/mapping/p5/model-trained.hdf5\n",
      "Epoch 17/5000\n",
      "587/587 [==============================] - 267s 455ms/step - loss: 1.1438 - categorical_accuracy: 0.7837 - precision_1: 0.8082 - recall_1: 0.7534 - val_loss: 0.4193 - val_categorical_accuracy: 0.8297 - val_precision_1: 0.8556 - val_recall_1: 0.8013\n",
      "\n",
      "Epoch 00017: saving model to /soe/cchakrab/test_output/output_csv/mapping/p5/model-trained.hdf5\n",
      "Epoch 18/5000\n",
      "587/587 [==============================] - 267s 455ms/step - loss: 0.9661 - categorical_accuracy: 0.8032 - precision_1: 0.8274 - recall_1: 0.7751 - val_loss: 0.3503 - val_categorical_accuracy: 0.8225 - val_precision_1: 0.8424 - val_recall_1: 0.8037\n",
      "\n",
      "Epoch 00018: saving model to /soe/cchakrab/test_output/output_csv/mapping/p5/model-trained.hdf5\n",
      "Epoch 00018: early stopping\n"
     ]
    },
    {
     "data": {
      "text/plain": [
       "<keras.callbacks.callbacks.History at 0x7f0b29b78f98>"
      ]
     },
     "execution_count": 24,
     "metadata": {},
     "output_type": "execute_result"
    }
   ],
   "source": [
    "model.fit_generator(train_data_generator.generate(), len(train_data)//(batch_size*num_steps), num_epochs,\n",
    "                        validation_data=test_data_generator.generate(),\n",
    "                        validation_steps=len(train_data)//(batch_size*num_steps), callbacks=[checkpointer,monitor])\n",
    "\n"
   ]
  },
  {
   "cell_type": "code",
   "execution_count": 25,
   "metadata": {},
   "outputs": [
    {
     "name": "stdout",
     "output_type": "stream",
     "text": [
      "Model trained!\n"
     ]
    }
   ],
   "source": [
    "print(\"Model trained!\")"
   ]
  },
  {
   "cell_type": "code",
   "execution_count": 26,
   "metadata": {},
   "outputs": [
    {
     "name": "stdout",
     "output_type": "stream",
     "text": [
      "['/soe/hlitz/maxwell/notebooks/Prefetching_SSD/Data/output/MSR-Cambridge/Part1/mds_0.csv']\n"
     ]
    }
   ],
   "source": [
    "import numpy as np\n",
    "import pandas as pd\n",
    "import glob\n",
    "import csv\n",
    "import sys\n",
    "import os\n",
    "import math\n",
    "import tensorflow as tf\n",
    "import keras\n",
    "from keras.preprocessing import sequence\n",
    "from keras.models import Sequential\n",
    "from keras.layers import Dense, Dropout, Flatten, Embedding\n",
    "from keras.layers import LSTM\n",
    "from keras.datasets import imdb\n",
    "from keras.callbacks import EarlyStopping\n",
    "from sklearn import metrics\n",
    "from keras.layers.core import Dense, Activation\n",
    "from keras.callbacks import ModelCheckpoint\n",
    "from numpy import insert\n",
    "from sklearn import preprocessing\n",
    "from collections import Counter\n",
    "from numpy import array\n",
    "from numpy import hstack\n",
    "from keras.preprocessing.sequence import TimeseriesGenerator\n",
    "import pandas as pd\n",
    "\n",
    "\n",
    "\n",
    "path  = r\"/soe/hlitz/maxwell/notebooks/Prefetching_SSD/Data/output/MSR-Cambridge/Part1/\" \n",
    "\n",
    "names = ['TimeStamp','Host_Name','DiskNumber','Operation_Type','ByteOffset','IOSize','Response_Time','DiskNum']\n",
    "\n",
    "\n",
    "#['TimeStamp','Response','IOType','LUN','ByteOffset','Size']\n",
    "\n",
    "\n",
    "all_files = glob.glob(os.path.join(path, \"mds_0.csv\"))\n",
    "print(all_files)\n",
    "\n",
    "\n"
   ]
  },
  {
   "cell_type": "code",
   "execution_count": 28,
   "metadata": {},
   "outputs": [
    {
     "name": "stdout",
     "output_type": "stream",
     "text": [
      "1211034\n"
     ]
    }
   ],
   "source": [
    "df = pd.read_csv(all_files[0],engine='python',skiprows =1,header=None,na_values=['-1'], index_col=False) \n",
    "\n",
    "names = ['TimeStamp','Host_Name','DiskNumber','Operation_Type','ByteOffset','IOSize','Response_Time','DiskNum']\n",
    "df.columns = names\n",
    "print (len(df))\n",
    "df['ByteOffset_Delta'] = df['ByteOffset'] - df['ByteOffset'].shift(-1)\n",
    "df = df.drop(df.index[-1])\n",
    "\n",
    "# total_classes = len(Counter(df['ByteOffset_Delta']))\n",
    "# x = Counter(df['ByteOffset_Delta'])\n",
    "# vals = {}\n",
    "# vals =  x.most_common(1000)\n",
    "# bo_list = []\n",
    "# coverage = 0\n",
    "# for key,value in vals:\n",
    "#     bo_list.append(key)\n",
    "#     coverage = coverage + value\n",
    "# print(len(bo_list))\n",
    "# print(\"Percentage Coverage\")\n",
    "# print((coverage/len(df))*100) \n",
    "# total_classes = len(Counter(df['ByteOffset']))\n",
    "# x = Counter(df['ByteOffset'])\n",
    "# vals = {}\n",
    "# vals =  x.most_common(1000)\n",
    "# bo_list = []\n",
    "# coverage = 0\n",
    "# for key,value in vals:\n",
    "#     bo_list.append(key)\n",
    "#     coverage = coverage + value\n",
    "    \n",
    "# print(len(bo_list))\n",
    "# print(\"Percentage Coverage Offset\")\n",
    "# print((coverage/len(df))*100)\n",
    "    \n",
    " \n",
    "\n"
   ]
  },
  {
   "cell_type": "code",
   "execution_count": 29,
   "metadata": {},
   "outputs": [],
   "source": [
    "# Transform Operation_type, Host_name and remove Disk_Num\n",
    "# Make Class of Byte Offset delta \n",
    "# Normalize the columns (Except ByteOffset Delta)\n",
    "# Make the prediction model with 1000 classes\n",
    "import operator\n",
    "     \n",
    "# df['ByteOffset_Delta'] = df['ByteOffset_Delta'].fillna(0)\n",
    "address_map = dict(Counter(df['ByteOffset_Delta']))\n",
    "sorted_address_map = sorted(dict(address_map).items(), key=operator.itemgetter(1))\n"
   ]
  },
  {
   "cell_type": "code",
   "execution_count": 30,
   "metadata": {},
   "outputs": [
    {
     "name": "stdout",
     "output_type": "stream",
     "text": [
      "1001\n",
      "442480\n"
     ]
    }
   ],
   "source": [
    "df = df.drop(df.index[-1])\n",
    "address_remap = {}\n",
    "\n",
    "count = 0\n",
    "while(count<len(sorted_address_map)):\n",
    "    if(count < 1000):\n",
    "        address_remap[count] = sorted_address_map[len(sorted_address_map)-count - 1][0]\n",
    "    else:\n",
    "        address_remap[1001] = sorted_address_map[len(sorted_address_map)-count - 1][0]\n",
    "    count = count + 1\n",
    "\n",
    "rev_address_remap = {y:x for x,y in address_remap.items()}\n",
    "\n",
    "count = 0\n",
    "label_list = []\n",
    "rogue_delta = []\n",
    "label =0.0\n",
    "while (count < len(df)):\n",
    "    x = df['ByteOffset_Delta'].iloc[count]\n",
    "    if x in rev_address_remap:\n",
    "        label = rev_address_remap[x]\n",
    "        label_list.append(label)\n",
    "    else:\n",
    "        label_list.append(1001)\n",
    "        rogue_delta.append(x)\n",
    "    count = count+1\n",
    "\n",
    "df['ByteOffset_Delta_class']  = label_list\n",
    "print(len(Counter(df['ByteOffset_Delta_class'])))\n",
    "print(len(rogue_delta))\n",
    "\n"
   ]
  },
  {
   "cell_type": "code",
   "execution_count": 31,
   "metadata": {},
   "outputs": [],
   "source": [
    "mapping_test = df['ByteOffset_Delta_class'].values.tolist()\n",
    "\n",
    "path_train  = r\"/soe/cchakrab/test_output/output_csv/mapping/p4/mapping_run2_transfer.txt\"\n",
    "\n",
    "with open(path_train, 'w') as f:\n",
    "    for item in mapping_test:\n",
    "        f.write(\"%s \" % item)\n",
    "        \n",
    "\n"
   ]
  },
  {
   "cell_type": "code",
   "execution_count": 34,
   "metadata": {},
   "outputs": [],
   "source": [
    "import collections\n",
    "import os\n",
    "import tensorflow as tf\n",
    "from keras.models import Sequential, load_model\n",
    "from keras.layers import Dense, Activation, Embedding, Dropout, TimeDistributed\n",
    "from keras.layers import LSTM\n",
    "from keras.optimizers import Adam\n",
    "from keras.utils import to_categorical\n",
    "from keras.callbacks import ModelCheckpoint\n",
    "import numpy as np\n",
    "import argparse\n",
    "\n",
    "data_path = r\"/soe/cchakrab/test_output/output_csv/mapping/p4/\"\n",
    "\n",
    "def read_words(filename):\n",
    "    with open(filename, 'r') as f:\n",
    "        return f.read().split()\n",
    "\n",
    "def build_vocab(filename):\n",
    "    data = read_words(filename)\n",
    "\n",
    "    counter = collections.Counter(data)\n",
    "    count_pairs = sorted(counter.items(), key=lambda x: (-x[1], x[0]))\n",
    "\n",
    "    words, _ = list(zip(*count_pairs))\n",
    "    word_to_id = dict(zip(words, range(len(words))))\n",
    "\n",
    "    return word_to_id\n",
    "\n",
    "\n",
    "def file_to_word_ids(filename, word_to_id):\n",
    "    data = read_words(filename)\n",
    "    return [word_to_id[word] for word in data if word in word_to_id]\n",
    "\n",
    "\n",
    "def load_data():\n",
    "    # get the data paths\n",
    "    train_path = os.path.join(data_path, \"mapping_run2_transfer.txt\")\n",
    "    #test_path = os.path.join(data_path, \"test_run2_transfer.txt\")\n",
    "\n",
    "    # build the complete vocabulary, then convert text data to list of integers\n",
    "    word_to_id = build_vocab(train_path)\n",
    "    train_data = file_to_word_ids(train_path, word_to_id)\n",
    "    #test_data = file_to_word_ids(test_path, word_to_id)\n",
    "    vocabulary = len(word_to_id)\n",
    "    reversed_dictionary = dict(zip(word_to_id.values(), word_to_id.keys()))\n",
    "\n",
    "    print(train_data[:5])\n",
    "    #print(word_to_id)\n",
    "    print(vocabulary)\n",
    "    print(\" \".join([reversed_dictionary[x] for x in train_data[:10]]))\n",
    "    return train_data, vocabulary, reversed_dictionary\n"
   ]
  },
  {
   "cell_type": "code",
   "execution_count": 35,
   "metadata": {},
   "outputs": [
    {
     "name": "stdout",
     "output_type": "stream",
     "text": [
      "[0, 0, 0, 0, 3]\n",
      "1001\n",
      "1001 1001 1001 1001 2 76 1001 1001 1001 1001\n"
     ]
    }
   ],
   "source": [
    "mapping_data, vocabulary, reversed_dictionary = load_data()"
   ]
  },
  {
   "cell_type": "code",
   "execution_count": 36,
   "metadata": {},
   "outputs": [],
   "source": [
    "class KerasBatchGenerator(object):\n",
    "\n",
    "    def __init__(self, data, num_steps, batch_size, vocabulary, skip_step=5):\n",
    "        self.data = data\n",
    "        self.num_steps = num_steps\n",
    "        self.batch_size = batch_size\n",
    "        self.vocabulary = vocabulary\n",
    "        # this will track the progress of the batches sequentially through the\n",
    "        # data set - once the data reaches the end of the data set it will reset\n",
    "        # back to zero\n",
    "        self.current_idx = 0\n",
    "        # skip_step is the number of words which will be skipped before the next\n",
    "        # batch is skimmed from the data set\n",
    "        self.skip_step = skip_step\n",
    "\n",
    "    def generate(self):\n",
    "        x = np.zeros((self.batch_size, self.num_steps))\n",
    "        y = np.zeros((self.batch_size, self.num_steps, self.vocabulary))\n",
    "        while True:\n",
    "            for i in range(self.batch_size):\n",
    "                if self.current_idx + self.num_steps >= len(self.data):\n",
    "                    # reset the index back to the start of the data set\n",
    "                    self.current_idx = 0\n",
    "                x[i, :] = self.data[self.current_idx:self.current_idx + self.num_steps]\n",
    "                temp_y = self.data[self.current_idx + 1:self.current_idx + self.num_steps + 1]\n",
    "                # convert all of temp_y into a one hot representation\n",
    "                y[i, :, :] = to_categorical(temp_y, num_classes=self.vocabulary)\n",
    "                self.current_idx += self.skip_step\n",
    "            yield x, y\n"
   ]
  },
  {
   "cell_type": "code",
   "execution_count": 37,
   "metadata": {},
   "outputs": [],
   "source": [
    "mapping_data_generator = KerasBatchGenerator(mapping_data, num_steps, batch_size, vocabulary, skip_step=num_steps)"
   ]
  },
  {
   "cell_type": "code",
   "execution_count": 38,
   "metadata": {},
   "outputs": [
    {
     "name": "stdout",
     "output_type": "stream",
     "text": [
      "Loss:  4.955629825592041 Accuracy:  0.35327383875846863\n",
      "--- 2573.358764410019 seconds ---\n"
     ]
    }
   ],
   "source": [
    "import time\n",
    "start_time = time.time()\n",
    "\n",
    "samples = (len(mapping_data)/batch_size)\n",
    "score = model.evaluate_generator(mapping_data_generator.generate(), samples)\n",
    "print(\"Loss: \", score[0], \"Accuracy: \", score[1])\n",
    "    \n",
    "print(\"--- %s seconds ---\" % (time.time() - start_time))\n"
   ]
  },
  {
   "cell_type": "code",
   "execution_count": null,
   "metadata": {},
   "outputs": [],
   "source": [
    "print(\"Done...!\")"
   ]
  },
  {
   "cell_type": "code",
   "execution_count": null,
   "metadata": {},
   "outputs": [],
   "source": []
  },
  {
   "cell_type": "code",
   "execution_count": null,
   "metadata": {},
   "outputs": [],
   "source": []
  }
 ],
 "metadata": {
  "kernelspec": {
   "display_name": "Python 3",
   "language": "python",
   "name": "python3"
  },
  "language_info": {
   "codemirror_mode": {
    "name": "ipython",
    "version": 3
   },
   "file_extension": ".py",
   "mimetype": "text/x-python",
   "name": "python",
   "nbconvert_exporter": "python",
   "pygments_lexer": "ipython3",
   "version": "3.7.6"
  }
 },
 "nbformat": 4,
 "nbformat_minor": 4
}
