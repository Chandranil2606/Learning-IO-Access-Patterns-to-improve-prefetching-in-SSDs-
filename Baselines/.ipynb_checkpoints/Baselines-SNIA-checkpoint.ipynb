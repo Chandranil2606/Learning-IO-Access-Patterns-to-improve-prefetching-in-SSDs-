{
 "cells": [
  {
   "cell_type": "code",
   "execution_count": null,
   "metadata": {},
   "outputs": [],
   "source": [
    "# Setting GPU Environment\n",
    "os.environ[\"CUDA_DEVICE_ORDER\"] = \"PCI_BUS_ID\"   # see issue #152\n",
    "os.environ[\"CUDA_VISIBLE_DEVICES\"] = \"2\"\n",
    "\n",
    "print(\"start\")"
   ]
  },
  {
   "cell_type": "code",
   "execution_count": 1,
   "metadata": {},
   "outputs": [
    {
     "name": "stdout",
     "output_type": "stream",
     "text": [
      "start\n"
     ]
    }
   ],
   "source": [
    "# Author: Chandranil Chakraborttii\n",
    "# Project: Learning I/O Access Patterns to Improve Prefetching in SSDs\n",
    "# Paper Link :https://www.researchgate.net/profile/Chandranil_Chakraborttii/publication/344379801_Learning_IO_Access_Patterns_to_Improve_Prefetching_in_SSDs/links/5f6e28fba6fdcc00863adb13/Learning-I-O-Access-Patterns-to-Improve-Prefetching-in-SSDs.pdf\n",
    "# Loading libraries\n",
    "\n",
    "from tensorflow.python.client import device_lib\n",
    "import numpy as np\n",
    "import csv\n",
    "import pandas as pd\n",
    "import sys\n",
    "import os\n",
    "import glob\n",
    "# import pylru\n",
    "\n"
   ]
  },
  {
   "cell_type": "code",
   "execution_count": 2,
   "metadata": {},
   "outputs": [],
   "source": [
    "import collections\n",
    "\n",
    "# Hyper parameters to set     K = 15 and B = 128\n",
    "# Baselines: Stride and RepeatMax\n",
    "\n",
    "    \n",
    "def zerolistmaker(n):\n",
    "    listofzeros = [0] * n\n",
    "    return listofzeros\n",
    "    \n",
    "\n",
    "def stride(f):\n",
    "    df = pd.read_csv(f,engine='python',skiprows =3,header=None,na_values=['-1'], index_col=False)\n",
    "    df.columns = names\n",
    "    print(len(df))\n",
    "    df = df.sort_values(by=['TimeStamp'])\n",
    "    df.reset_index(inplace=True, drop=True)\n",
    "    df = df[df.ByteOffset != 'ByteOffset'] # Removing extra rows\n",
    "    addresses = df['ByteOffset'].tolist()\n",
    "\n",
    "    #  Buffer Size = 1\n",
    "    K = 15\n",
    "    B = 128\n",
    "    count = 1\n",
    "    hit = 0\n",
    "    hit_1 = 0\n",
    "    hit_2 = 0\n",
    "    prefetches = 0\n",
    "    bit_length = '064b'\n",
    "\n",
    "    # Create a deque of N- elements\n",
    "    buffer_size = 10\n",
    "    init_list = zerolistmaker(buffer_size)\n",
    "    buffer = collections.deque(init_list)\n",
    "    \n",
    "    buffer_size_1 = 100\n",
    "    init_list_1 = zerolistmaker(buffer_size_1)\n",
    "    buffer_1 = collections.deque(init_list_1)\n",
    "\n",
    "    buffer_size_2 = 1000\n",
    "    init_list_2 = zerolistmaker(buffer_size_2)\n",
    "    buffer_2 = collections.deque(init_list_2)\n",
    "\n",
    "    bucket = []\n",
    "    history = [0,0,0]\n",
    "    addresses = df['ByteOffset'].tolist()\n",
    "    for i in range(B):\n",
    "        bucket.append(history)\n",
    "\n",
    "    while (count < len(addresses)-1):\n",
    "        lba_dec = addresses[count]\n",
    "        \n",
    "        if lba_dec in buffer:\n",
    "            hit += 1\n",
    "        if lba_dec in buffer_1:\n",
    "            hit_1 += 1\n",
    "        if lba_dec in buffer_2:\n",
    "            hit_2 += 1\n",
    "            \n",
    "        lba_binary = str(format(lba_dec, bit_length))\n",
    "        S = int(lba_binary[:K])\n",
    "        S_ = lba_binary[K-1:]\n",
    "        pos = S % B\n",
    "\n",
    "        #Organizing in a list\n",
    "        bucket[pos][2] = bucket[pos][1]\n",
    "        bucket[pos][1] = bucket[pos][0]\n",
    "        bucket[pos][0] = str(lba_dec)\n",
    "\n",
    "        delta1 = int(bucket[pos][2]) - int(bucket[pos][1])\n",
    "        delta2 = int(bucket[pos][1]) - int(bucket[pos][0])\n",
    "        if(delta1 == delta2):\n",
    "            buffer.append(lba_dec + delta1)\n",
    "            buffer.popleft()\n",
    "            buffer_1.append(lba_dec + delta1)\n",
    "            buffer_1.popleft()\n",
    "            buffer_2.append(lba_dec + delta1)\n",
    "            buffer_2.popleft()\n",
    "            prefetches += 1\n",
    "\n",
    "       \n",
    "        count = count+1 \n",
    "\n",
    "    print(\"Prefetch Coverage: \",  str(prefetches/count))\n",
    "    print(\" For Buffer Size = \", str(buffer_size))\n",
    "    print(\"The prefetch hit ratio is =\", str(hit/count))\n",
    "    print(\"****************************************************************\")\n",
    "\n",
    "    print(\"Buffer Size = \", str(buffer_size_1))\n",
    "    print(\"The prefetch hit ratio is =\", str(hit_1/count))\n",
    "\n",
    "    print(\"****************************************************************\")\n",
    "    \n",
    "    print(\"Buffer Size = \", str(buffer_size_2))\n",
    "    print(\"The prefetch hit ratio is =\", str(hit_2/count))\n",
    "    print(\"****************************************************************\")\n"
   ]
  },
  {
   "cell_type": "code",
   "execution_count": 18,
   "metadata": {},
   "outputs": [
    {
     "name": "stdout",
     "output_type": "stream",
     "text": [
      "/soe/hlitz/maxwell/notebooks/Prefetching_SSD/Data/part32/2016031115-LUN2.csv\n",
      "2408226\n",
      "Prefetch Coverage:  0.022999927332371353\n",
      " For Buffer Size =  10\n",
      "The prefetch hit ratio is = 0.00060044223442577\n",
      "****************************************************************\n",
      "Buffer Size =  100\n",
      "The prefetch hit ratio is = 0.0013918965212968057\n",
      "****************************************************************\n",
      "Buffer Size =  1000\n",
      "The prefetch hit ratio is = 0.005188053441850325\n",
      "****************************************************************\n"
     ]
    }
   ],
   "source": [
    "for f in all_files:\n",
    "    if \"2016031115-LUN2\" in f:\n",
    "        print(f)\n",
    "        stride(f)\n",
    "    \n",
    "    "
   ]
  },
  {
   "cell_type": "code",
   "execution_count": 17,
   "metadata": {},
   "outputs": [
    {
     "name": "stdout",
     "output_type": "stream",
     "text": [
      "4443485\n",
      "Prefetch Coverage:  0.01826832278455374\n",
      " For Buffer Size =  10\n",
      "The prefetch hit ratio is = 0.00010037169032227865\n",
      "****************************************************************\n",
      "Buffer Size =  100\n",
      "The prefetch hit ratio is = 0.00028356127759208765\n",
      "****************************************************************\n",
      "Buffer Size =  1000\n",
      "The prefetch hit ratio is = 0.0014794697134050668\n",
      "****************************************************************\n"
     ]
    }
   ],
   "source": [
    "f = r'/soe/hlitz/maxwell/notebooks/Prefetching_SSD/Data/output/SYSTOR/part26/2016030817-LUN2.csv'\n",
    "stride(f)"
   ]
  },
  {
   "cell_type": "code",
   "execution_count": null,
   "metadata": {},
   "outputs": [],
   "source": []
  }
 ],
 "metadata": {
  "kernelspec": {
   "display_name": "Python 3",
   "language": "python",
   "name": "python3"
  },
  "language_info": {
   "codemirror_mode": {
    "name": "ipython",
    "version": 3
   },
   "file_extension": ".py",
   "mimetype": "text/x-python",
   "name": "python",
   "nbconvert_exporter": "python",
   "pygments_lexer": "ipython3",
   "version": "3.7.6"
  }
 },
 "nbformat": 4,
 "nbformat_minor": 4
}
