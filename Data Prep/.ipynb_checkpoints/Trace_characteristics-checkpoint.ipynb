{
 "cells": [
  {
   "cell_type": "code",
   "execution_count": null,
   "metadata": {},
   "outputs": [],
   "source": [
    "# Author: Chandranil Chakraborttii\n",
    "# Project: Learning I/O Access Patterns to Improve Prefetching in SSDs\n",
    "# Paper Link :https://www.researchgate.net/profile/Chandranil_Chakraborttii/publication/344379801_Learning_IO_Access_Patterns_to_Improve_Prefetching_in_SSDs/links/5f6e28fba6fdcc00863adb13/Learning-I-O-Access-Patterns-to-Improve-Prefetching-in-SSDs.pdf\n",
    "# Loading libraries\n",
    "\n",
    "import csv\n",
    "import sys\n",
    "import pandas as pd\n",
    "import os\n",
    "import glob\n",
    "from collections import Counter"
   ]
  },
  {
   "cell_type": "code",
   "execution_count": null,
   "metadata": {},
   "outputs": [],
   "source": [
    "# Loading Trace files\n",
    "\n",
    "path  = r\"C:\\Users\\cchak\\Desktop\\Coverage stats\\SYSTOR\" \n",
    "names = ['Filename','Num_obs','Coverage_Offset_1000','Coverage_Delta_1000','Coverage_Delta2_1000','Part']\n",
    "\n",
    "all_files = glob.glob(os.path.join(path, \"*.csv\"))\n",
    "print(len(all_files))"
   ]
  },
  {
   "cell_type": "code",
   "execution_count": null,
   "metadata": {},
   "outputs": [],
   "source": [
    "# Empty frame for storing results\n",
    "\n",
    "df_total = pd.DataFrame(columns=names)\n",
    "\n",
    "# Computing aggregate trace coverage charactersistics per file\n",
    "\n",
    "total_length = len(df_total)\n",
    "counter = 1\n",
    "for x in all_files:\n",
    "    df = pd.read_csv(x,engine='python',skiprows =1,header=None,na_values=['-1'], index_col=False) \n",
    "    total_length = total_length + len(df)\n",
    "    tmp_list = [counter] * len(df)\n",
    "    df['Part'] = tmp_list\n",
    "    df_total = df_total.append(df,ignore_index=True)\n",
    "    counter = counter + 1\n",
    "    \n",
    "    \n",
    "print(len(df_total))\n",
    "print((total_length))\n",
    "\n",
    "# Printing to file\n",
    "filename_wr_out = os.path.join(path,'select_traces.csv')\n",
    "df_total.to_csv(filename_wr_out,index=False)   "
   ]
  },
  {
   "cell_type": "code",
   "execution_count": null,
   "metadata": {},
   "outputs": [],
   "source": []
  }
 ],
 "metadata": {
  "kernelspec": {
   "display_name": "TensorFlow-GPU-1.13",
   "language": "python",
   "name": "tf-gpu"
  },
  "language_info": {
   "codemirror_mode": {
    "name": "ipython",
    "version": 3
   },
   "file_extension": ".py",
   "mimetype": "text/x-python",
   "name": "python",
   "nbconvert_exporter": "python",
   "pygments_lexer": "ipython3",
   "version": "3.7.6"
  }
 },
 "nbformat": 4,
 "nbformat_minor": 4
}
